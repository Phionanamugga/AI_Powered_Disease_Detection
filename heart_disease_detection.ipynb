{
  "nbformat": 4,
  "nbformat_minor": 0,
  "metadata": {
    "colab": {
      "provenance": [],
      "authorship_tag": "ABX9TyNtl2TO0xF6CggRG1xAEmNa",
      "include_colab_link": true
    },
    "kernelspec": {
      "name": "python3",
      "display_name": "Python 3"
    },
    "language_info": {
      "name": "python"
    }
  },
  "cells": [
    {
      "cell_type": "markdown",
      "metadata": {
        "id": "view-in-github",
        "colab_type": "text"
      },
      "source": [
        "<a href=\"https://colab.research.google.com/github/Phionanamugga/AI_Powered_Disease_Detection/blob/main/heart_disease_detection.ipynb\" target=\"_parent\"><img src=\"https://colab.research.google.com/assets/colab-badge.svg\" alt=\"Open In Colab\"/></a>"
      ]
    },
    {
      "cell_type": "code",
      "execution_count": 1,
      "metadata": {
        "id": "5jiOoRxi5wb-"
      },
      "outputs": [],
      "source": [
        "# Importing datasets\n",
        "import cv2\n",
        "import os\n",
        "import numpy as np\n",
        "from albumentations import Compose, Resize, Normalize, HorizontalFlip\n",
        "from albumentations.pytorch import ToTensorV2\n"
      ]
    },
    {
      "cell_type": "code",
      "source": [
        "transform = Compose([\n",
        "    Resize(224, 224),\n",
        "    HorizontalFlip(p=0.5),\n",
        "    Normalize(),\n",
        "    ToTensorV2()\n",
        "])\n",
        "\n",
        "def preprocess_image(image_path):\n",
        "    image = cv2.imread(image_path)\n",
        "    image = cv2.cvtColor(image, cv2.COLOR_BGR2RGB)\n",
        "    augmented = transform(image=image)\n",
        "    return augmented['image']\n",
        "\n",
        "# Usage example\n",
        "# tensor_image = preprocess_image('data/raw/00000001_000.png')"
      ],
      "metadata": {
        "id": "ZDsF3wu06Tv9"
      },
      "execution_count": 2,
      "outputs": []
    },
    {
      "cell_type": "code",
      "source": [
        "# src/model/model.py\n",
        "import torch\n",
        "import torch.nn as nn\n",
        "from torchvision import models\n",
        "\n",
        "class DiseaseDetectionModel(nn.Module):\n",
        "    def __init__(self, num_classes=1):\n",
        "        super().__init__()\n",
        "        self.base_model = models.efficientnet_b0(pretrained=True)\n",
        "        self.base_model.classifier = nn.Sequential(\n",
        "            nn.Dropout(0.3),\n",
        "            nn.Linear(self.base_model.classifier[1].in_features, num_classes),\n",
        "            nn.Sigmoid()\n",
        "        )\n",
        "\n",
        "    def forward(self, x):\n",
        "        return self.base_model(x)"
      ],
      "metadata": {
        "id": "vSJnCUC86bK7"
      },
      "execution_count": 3,
      "outputs": []
    },
    {
      "cell_type": "code",
      "source": [
        "# src/train/train.py\n",
        "import torch\n",
        "from torch.utils.data import DataLoader, Dataset\n",
        "from sklearn.metrics import roc_auc_score\n",
        "import torch.nn as nn\n",
        "import torch.optim as optim\n",
        "\n",
        "class CustomDataset(Dataset):\n",
        "    def __init__(self, image_paths, labels, transform):\n",
        "        self.image_paths = image_paths\n",
        "        self.labels = labels\n",
        "        self.transform = transform\n",
        "\n",
        "    def __len__(self):\n",
        "        return len(self.image_paths)\n",
        "\n",
        "    def __getitem__(self, idx):\n",
        "        image = preprocess_image(self.image_paths[idx])\n",
        "        label = torch.tensor(self.labels[idx]).float()\n",
        "        return image, label\n",
        "\n",
        "def train_model(model, dataloader, epochs=10):\n",
        "    criterion = nn.BCELoss()\n",
        "    optimizer = optim.Adam(model.parameters(), lr=1e-4)\n",
        "    model.train()\n",
        "\n",
        "    for epoch in range(epochs):\n",
        "        epoch_loss = 0\n",
        "        all_labels = []\n",
        "        all_preds = []\n",
        "\n",
        "        for images, labels in dataloader:\n",
        "            optimizer.zero_grad()\n",
        "            outputs = model(images)\n",
        "            loss = criterion(outputs.squeeze(), labels)\n",
        "            loss.backward()\n",
        "            optimizer.step()\n",
        "\n",
        "            epoch_loss += loss.item()\n",
        "            all_labels.extend(labels.numpy())\n",
        "            all_preds.extend(outputs.squeeze().detach().numpy())\n",
        "\n",
        "        auc = roc_auc_score(all_labels, all_preds)\n",
        "        print(f\"Epoch {epoch+1}/{epochs}, Loss: {epoch_loss/len(dataloader):.4f}, AUC: {auc:.4f}\")\n",
        "\n",
        "    torch.save(model.state_dict(), 'models/disease_detection.pth')\n"
      ],
      "metadata": {
        "id": "FE4-lWsi7A8Q"
      },
      "execution_count": 4,
      "outputs": []
    }
  ]
}